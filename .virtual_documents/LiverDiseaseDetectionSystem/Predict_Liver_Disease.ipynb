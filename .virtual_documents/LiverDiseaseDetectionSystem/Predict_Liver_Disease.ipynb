


import pandas as pd
import numpy as np
from pandas.plotting import parallel_coordinates
import matplotlib.pyplot as plt
import seaborn as sns
from sklearn.model_selection import train_test_split
from sklearn.decomposition import PCA
from sklearn.linear_model import LogisticRegression, Lasso, Ridge
from sklearn.preprocessing import StandardScaler
from sklearn.preprocessing import PolynomialFeatures
from sklearn.metrics import accuracy_score, classification_report
from sklearn.tree import DecisionTreeClassifier
from sklearn.svm import SVC
from sklearn.metrics import log_loss
from sklearn.metrics import confusion_matrix





df = pd.read_csv(r"Liver_disease_data.csv")
df.head(3)


df.info()
df.describe()


plt.figure(figsize = (10,5))
sns.heatmap(data= df.corr(), annot  = True)
plt.show()


x = df.drop("Diagnosis", axis = 1)
y = df["Diagnosis"]





s = StandardScaler()
x = s.fit_transform(x)





pf = PolynomialFeatures(degree = 2)
x = pf.fit_transform(x)





x_train, x_remaining, y_train, y_remaining = train_test_split(x, y, test_size = 0.2, random_state = 42)


x_cv, x_test, y_cv, y_test = train_test_split(x_remaining, y_remaining, test_size = 0.5, random_state = 42)





dt = DecisionTreeClassifier()


dt.fit(x_train, y_train)





dt.score(x_test, y_test)*100


y_pred = dt.predict(x)


cm = confusion_matrix(y, y_pred)


plt.figure(figsize=(10, 7))
sns.heatmap(cm, annot=True, fmt='d', cmap='Blues', cbar=False)
plt.xlabel('Predicted')
plt.ylabel('Actual')
plt.title('Confusion Matrix')
plt.show()
