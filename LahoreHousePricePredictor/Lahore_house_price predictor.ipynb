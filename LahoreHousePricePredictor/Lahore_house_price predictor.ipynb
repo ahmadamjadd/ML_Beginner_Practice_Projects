{
 "cells": [
  {
   "cell_type": "code",
   "execution_count": 376,
   "id": "cf454e00-3946-4e43-8e85-69d4d7774599",
   "metadata": {},
   "outputs": [],
   "source": [
    "import pandas as pd\n",
    "import numpy as np\n",
    "import matplotlib.pyplot as plt\n",
    "import seaborn as sns\n",
    "from sklearn.preprocessing import OneHotEncoder\n",
    "from sklearn.preprocessing import LabelEncoder\n",
    "from sklearn.preprocessing import StandardScaler\n",
    "from sklearn.model_selection import train_test_split\n",
    "from sklearn.linear_model import LinearRegression\n",
    "from sklearn.preprocessing import PolynomialFeatures\n",
    "from sklearn.svm import SVR\n",
    "from sklearn.tree import DecisionTreeRegressor\n",
    "from sklearn.linear_model import Ridge\n",
    "from sklearn.linear_model import Lasso\n",
    "from sklearn.model_selection import GridSearchCV"
   ]
  },
  {
   "cell_type": "code",
   "execution_count": 377,
   "id": "01ed0fc9-7dc5-4b66-a75d-f2c4d7b03419",
   "metadata": {},
   "outputs": [],
   "source": [
    "df = pd.read_csv(\"lahore_housing_prices.csv\")"
   ]
  },
  {
   "cell_type": "code",
   "execution_count": 378,
   "id": "2eed99a2-ce81-4170-a80c-c53c2be08a43",
   "metadata": {},
   "outputs": [],
   "source": [
    "#df.describe()"
   ]
  },
  {
   "cell_type": "code",
   "execution_count": 379,
   "id": "5a5484e0-3797-472c-b918-a458f4513209",
   "metadata": {},
   "outputs": [],
   "source": [
    "#df.shape"
   ]
  },
  {
   "cell_type": "code",
   "execution_count": 380,
   "id": "d20c01c3-b0fa-494f-b852-538c901f9e7f",
   "metadata": {},
   "outputs": [],
   "source": [
    "#df.isnull().sum()"
   ]
  },
  {
   "cell_type": "code",
   "execution_count": 381,
   "id": "960e8e93-0428-4399-b0c8-8cc9b4f8d966",
   "metadata": {},
   "outputs": [
    {
     "data": {
      "text/plain": [
       "\"fig, axes = plt.subplots(2, 2, figsize=(10, 8))\\n\\nsns.boxplot(data=df['house_id'], ax=axes[0, 0])\\naxes[0, 0].set_title('house_id')\\n\\nsns.boxplot(data=df['Bath(s)'], ax=axes[0, 1])\\naxes[0, 1].set_title('Bathroom')\\n\\nsns.boxplot(data=df['Bedroom(s)'], ax=axes[1, 0])\\naxes[1, 0].set_title('Bedroom')\\n\\nsns.boxplot(data=df['Price'], ax=axes[1, 1])\\naxes[1, 1].set_title('Price')\\n\\nplt.show()\""
      ]
     },
     "execution_count": 381,
     "metadata": {},
     "output_type": "execute_result"
    }
   ],
   "source": [
    "'''fig, axes = plt.subplots(2, 2, figsize=(10, 8))\n",
    "\n",
    "sns.boxplot(data=df['house_id'], ax=axes[0, 0])\n",
    "axes[0, 0].set_title('house_id')\n",
    "\n",
    "sns.boxplot(data=df['Bath(s)'], ax=axes[0, 1])\n",
    "axes[0, 1].set_title('Bathroom')\n",
    "\n",
    "sns.boxplot(data=df['Bedroom(s)'], ax=axes[1, 0])\n",
    "axes[1, 0].set_title('Bedroom')\n",
    "\n",
    "sns.boxplot(data=df['Price'], ax=axes[1, 1])\n",
    "axes[1, 1].set_title('Price')\n",
    "\n",
    "plt.show()'''"
   ]
  },
  {
   "cell_type": "code",
   "execution_count": 382,
   "id": "ec172693-c9b9-4f2f-a690-92c28544e0f4",
   "metadata": {},
   "outputs": [],
   "source": [
    "df.drop(columns=\"house_id\", inplace = True)"
   ]
  },
  {
   "cell_type": "code",
   "execution_count": 383,
   "id": "641a522b-2231-4674-8394-3180d94e0de4",
   "metadata": {},
   "outputs": [],
   "source": [
    "df[\"Location\"] = df[\"Location\"].apply(lambda x: x.split(\", Lahore, Punjab\")[0])"
   ]
  },
  {
   "cell_type": "code",
   "execution_count": 384,
   "id": "a85a2af1-ed81-4376-a685-8857266caa2c",
   "metadata": {},
   "outputs": [],
   "source": [
    "df[\"Area_number\"], df[\"Area_unit\"] = df[\"Area\"].apply(lambda x: x.split(\" \")[0]), df[\"Area\"].apply(lambda x: x.split(\" \")[1])"
   ]
  },
  {
   "cell_type": "code",
   "execution_count": 385,
   "id": "b682c82e-3970-4f7c-b923-52d791153e3b",
   "metadata": {},
   "outputs": [],
   "source": [
    "df.drop(columns = \"Area\", inplace = True)"
   ]
  },
  {
   "cell_type": "code",
   "execution_count": 386,
   "id": "e54b6780-a3a9-409d-b4ec-cd7cf5d4c709",
   "metadata": {},
   "outputs": [],
   "source": [
    "encoder = OneHotEncoder(drop = 'first')\n",
    "\n",
    "# Ensure the input data is 2D\n",
    "X_categorical = df[['Area_unit']]  # Selecting the column as a DataFrame to ensure it's 2D\n",
    "\n",
    "# Fit the encoder to your categorical data\n",
    "encoder.fit(X_categorical)\n",
    "\n",
    "# Transform your categorical data into one-hot encoded vectors\n",
    "X_encoded = encoder.transform(X_categorical)\n",
    "\n",
    "# Convert sparse matrix to DataFrame with column names\n",
    "encoded_df = pd.DataFrame(X_encoded.toarray(), columns=encoder.get_feature_names_out(['Area_unit']))\n",
    "\n",
    "df = pd.concat([df, encoded_df], axis=1)"
   ]
  },
  {
   "cell_type": "code",
   "execution_count": null,
   "id": "26a8ed64-a6bb-42fa-8fba-892a06e20319",
   "metadata": {},
   "outputs": [],
   "source": []
  },
  {
   "cell_type": "code",
   "execution_count": 387,
   "id": "8b796afd-1afe-45db-824e-65ccefab4e65",
   "metadata": {},
   "outputs": [],
   "source": [
    "df.drop(columns = \"Area_unit\", inplace = True)"
   ]
  },
  {
   "cell_type": "code",
   "execution_count": 388,
   "id": "4f8a9f3f-984d-4300-b542-ec9c1b3ba98b",
   "metadata": {},
   "outputs": [],
   "source": [
    "#df.head(3)"
   ]
  },
  {
   "cell_type": "code",
   "execution_count": 389,
   "id": "af07ecd3-c052-40ba-bf41-51a36b61a98e",
   "metadata": {},
   "outputs": [],
   "source": [
    "le = LabelEncoder()\n",
    "df[\"Type\"] = le.fit_transform(df[\"Type\"])\n",
    "df[\"Location\"] = le.fit_transform(df[\"Location\"])"
   ]
  },
  {
   "cell_type": "code",
   "execution_count": 390,
   "id": "a9a5e4c0-0d22-4e84-aba5-581a45a15573",
   "metadata": {},
   "outputs": [],
   "source": [
    "df.head(3)\n",
    "q3 = df[\"Price\"].quantile(0.75)\n",
    "q1 = df[\"Price\"].quantile(0.25)\n",
    "IQR = q3-q1\n",
    "upper_bound = q3 + 1.5*IQR\n",
    "lower_bound = q1 - 1.5*IQR\n",
    "df = df[(df[\"Price\"] >= lower_bound) & (df[\"Price\"] <= upper_bound)]"
   ]
  },
  {
   "cell_type": "code",
   "execution_count": 391,
   "id": "90941bc3-2549-4c3d-b76f-512d96fd38b4",
   "metadata": {},
   "outputs": [],
   "source": [
    "x = df.iloc[:, df.columns != 'Price']\n",
    "y = df[\"Price\"]"
   ]
  },
  {
   "cell_type": "code",
   "execution_count": 392,
   "id": "c2bb1136-8ce8-42d8-9a32-626c66788f93",
   "metadata": {},
   "outputs": [],
   "source": [
    "Se = StandardScaler()"
   ]
  },
  {
   "cell_type": "code",
   "execution_count": 393,
   "id": "56e01bc4-c6b8-49dd-8c5d-391bbc8b8fdd",
   "metadata": {},
   "outputs": [],
   "source": [
    "x = Se.fit_transform(x)\n",
    "P = PolynomialFeatures(degree = 2)\n",
    "x = P.fit_transform(x)"
   ]
  },
  {
   "cell_type": "code",
   "execution_count": 394,
   "id": "3de45a50-dbca-4058-8791-31684bc2ff4b",
   "metadata": {},
   "outputs": [],
   "source": [
    "x_temp, x_test, y_temp, y_test = train_test_split(x,y,test_size=0.3, random_state = 10)"
   ]
  },
  {
   "cell_type": "code",
   "execution_count": 395,
   "id": "e9b38dc4-935c-4edc-9d9c-8e88499ea0cd",
   "metadata": {},
   "outputs": [],
   "source": [
    "x_train, x_cv, y_train, y_cv = train_test_split(x_temp,y_temp,test_size=0.5, random_state = 10)\n",
    "d_r = {\n",
    "    'criterion' : [\"squared_error\", \"friedman_mse\", \"absolute_error\"],\n",
    "    'splitter' :[\"best\", \"random\"],\n",
    "    }\n",
    "   "
   ]
  },
  {
   "cell_type": "code",
   "execution_count": 220,
   "id": "7861fcc1-3d4b-4d6b-8ac5-dfda87aaa493",
   "metadata": {},
   "outputs": [],
   "source": [
    "#Le = LinearRegression()\n",
    "#type(x_train)"
   ]
  },
  {
   "cell_type": "code",
   "execution_count": 221,
   "id": "f740ca06-3faa-4f04-bf7c-62d876fee04d",
   "metadata": {},
   "outputs": [],
   "source": [
    "#Le.fit(x_train, y_train)"
   ]
  },
  {
   "cell_type": "code",
   "execution_count": 222,
   "id": "79f81137-ec29-452d-b16c-487800285242",
   "metadata": {},
   "outputs": [],
   "source": [
    "#Le.score(x_train, y_train), Le.score(x_cv, y_cv)"
   ]
  },
  {
   "cell_type": "code",
   "execution_count": 223,
   "id": "b46c0a34-8e2a-40aa-abf1-19a7b9daa971",
   "metadata": {},
   "outputs": [
    {
     "data": {
      "text/plain": [
       "'d = GridSearchCV(t, param_grid=d_r )\\ngd.fit(x_train, y_train)\\ngd.best_params_'"
      ]
     },
     "execution_count": 223,
     "metadata": {},
     "output_type": "execute_result"
    }
   ],
   "source": [
    "\n",
    "'''d = GridSearchCV(t, param_grid=d_r )\n",
    "gd.fit(x_train, y_train)\n",
    "gd.best_params_'''"
   ]
  },
  {
   "cell_type": "code",
   "execution_count": 363,
   "id": "451b3bcd-a668-4e3e-a4f8-da738a6a4cb1",
   "metadata": {},
   "outputs": [],
   "source": [
    "t = DecisionTreeRegressor(max_depth=5)\n",
    "\n"
   ]
  },
  {
   "cell_type": "code",
   "execution_count": 364,
   "id": "fd2a5ba2-3e49-4246-bde4-5c6a5326a0cb",
   "metadata": {},
   "outputs": [
    {
     "data": {
      "text/plain": [
       "(0.8726702107648836, 0.8664613962173462)"
      ]
     },
     "execution_count": 364,
     "metadata": {},
     "output_type": "execute_result"
    }
   ],
   "source": [
    "t.fit(x_train, y_train)\n",
    "t.score(x_train, y_train), boost.score(x_cv, y_cv)"
   ]
  },
  {
   "cell_type": "code",
   "execution_count": null,
   "id": "84c3134b-4b84-41b4-811a-3452bacf8f44",
   "metadata": {},
   "outputs": [],
   "source": [
    "ridge = Ridge()\n",
    "data = {'solver' : ['auto', 'svd', 'cholesky', 'lsqr', 'sparse_cg'],\n",
    "        'max_iter' : [i for i in range(100,1000)],\n",
    "        'alpha' : [i for i in range(0,100)]\n",
    "       }\n",
    "d = GridSearchCV(ridge, param_grid=data )\n",
    "d.fit(x_train, y_train)\n",
    "d.best_params_"
   ]
  },
  {
   "cell_type": "code",
   "execution_count": 373,
   "id": "27475789-f1de-4435-b367-88ca0f400e9e",
   "metadata": {},
   "outputs": [],
   "source": [
    "#ridge.fit(x_train, y_train)"
   ]
  },
  {
   "cell_type": "code",
   "execution_count": 74,
   "id": "c93e4caa-1a0b-45d5-b783-6edecd382a0f",
   "metadata": {},
   "outputs": [],
   "source": [
    "#ridge.score(x_train, y_train), ridge.score(x_cv, y_cv)"
   ]
  },
  {
   "cell_type": "code",
   "execution_count": 75,
   "id": "c45085f6-584b-43a2-a16d-405f8be3ae60",
   "metadata": {},
   "outputs": [],
   "source": [
    "#lasso = Lasso(alpha = 10)"
   ]
  },
  {
   "cell_type": "code",
   "execution_count": 76,
   "id": "1ee880d3-3520-48eb-aecb-4554f093912b",
   "metadata": {},
   "outputs": [],
   "source": [
    "#lasso.fit(x_train, y_train)"
   ]
  },
  {
   "cell_type": "code",
   "execution_count": 77,
   "id": "911e6516-e2fc-45a8-b220-9fa2eab561ad",
   "metadata": {},
   "outputs": [],
   "source": [
    "#lasso.score(x_train, y_train), lasso.score(x_cv, y_cv)"
   ]
  },
  {
   "cell_type": "code",
   "execution_count": 226,
   "id": "62151388-68b5-4be2-8934-e1ec20b28b63",
   "metadata": {},
   "outputs": [],
   "source": [
    "from sklearn.ensemble import VotingRegressor"
   ]
  },
  {
   "cell_type": "code",
   "execution_count": 365,
   "id": "46f33e04-4c12-4492-afeb-73878539ed3f",
   "metadata": {},
   "outputs": [],
   "source": [
    "models = [(\"Le\", LinearRegression()), (\"t\", DecisionTreeRegressor(max_depth=5)), (\"ridge\", Ridge())]"
   ]
  },
  {
   "cell_type": "code",
   "execution_count": 366,
   "id": "5f9de5d9-1119-4651-bd5d-b44f5c4fcc52",
   "metadata": {},
   "outputs": [],
   "source": [
    "v = VotingRegressor(models)"
   ]
  },
  {
   "cell_type": "code",
   "execution_count": 367,
   "id": "f0dc7376-0895-498d-b3eb-0a2d19b78c76",
   "metadata": {},
   "outputs": [
    {
     "data": {
      "text/html": [
       "<style>#sk-container-id-13 {\n",
       "  /* Definition of color scheme common for light and dark mode */\n",
       "  --sklearn-color-text: black;\n",
       "  --sklearn-color-line: gray;\n",
       "  /* Definition of color scheme for unfitted estimators */\n",
       "  --sklearn-color-unfitted-level-0: #fff5e6;\n",
       "  --sklearn-color-unfitted-level-1: #f6e4d2;\n",
       "  --sklearn-color-unfitted-level-2: #ffe0b3;\n",
       "  --sklearn-color-unfitted-level-3: chocolate;\n",
       "  /* Definition of color scheme for fitted estimators */\n",
       "  --sklearn-color-fitted-level-0: #f0f8ff;\n",
       "  --sklearn-color-fitted-level-1: #d4ebff;\n",
       "  --sklearn-color-fitted-level-2: #b3dbfd;\n",
       "  --sklearn-color-fitted-level-3: cornflowerblue;\n",
       "\n",
       "  /* Specific color for light theme */\n",
       "  --sklearn-color-text-on-default-background: var(--sg-text-color, var(--theme-code-foreground, var(--jp-content-font-color1, black)));\n",
       "  --sklearn-color-background: var(--sg-background-color, var(--theme-background, var(--jp-layout-color0, white)));\n",
       "  --sklearn-color-border-box: var(--sg-text-color, var(--theme-code-foreground, var(--jp-content-font-color1, black)));\n",
       "  --sklearn-color-icon: #696969;\n",
       "\n",
       "  @media (prefers-color-scheme: dark) {\n",
       "    /* Redefinition of color scheme for dark theme */\n",
       "    --sklearn-color-text-on-default-background: var(--sg-text-color, var(--theme-code-foreground, var(--jp-content-font-color1, white)));\n",
       "    --sklearn-color-background: var(--sg-background-color, var(--theme-background, var(--jp-layout-color0, #111)));\n",
       "    --sklearn-color-border-box: var(--sg-text-color, var(--theme-code-foreground, var(--jp-content-font-color1, white)));\n",
       "    --sklearn-color-icon: #878787;\n",
       "  }\n",
       "}\n",
       "\n",
       "#sk-container-id-13 {\n",
       "  color: var(--sklearn-color-text);\n",
       "}\n",
       "\n",
       "#sk-container-id-13 pre {\n",
       "  padding: 0;\n",
       "}\n",
       "\n",
       "#sk-container-id-13 input.sk-hidden--visually {\n",
       "  border: 0;\n",
       "  clip: rect(1px 1px 1px 1px);\n",
       "  clip: rect(1px, 1px, 1px, 1px);\n",
       "  height: 1px;\n",
       "  margin: -1px;\n",
       "  overflow: hidden;\n",
       "  padding: 0;\n",
       "  position: absolute;\n",
       "  width: 1px;\n",
       "}\n",
       "\n",
       "#sk-container-id-13 div.sk-dashed-wrapped {\n",
       "  border: 1px dashed var(--sklearn-color-line);\n",
       "  margin: 0 0.4em 0.5em 0.4em;\n",
       "  box-sizing: border-box;\n",
       "  padding-bottom: 0.4em;\n",
       "  background-color: var(--sklearn-color-background);\n",
       "}\n",
       "\n",
       "#sk-container-id-13 div.sk-container {\n",
       "  /* jupyter's `normalize.less` sets `[hidden] { display: none; }`\n",
       "     but bootstrap.min.css set `[hidden] { display: none !important; }`\n",
       "     so we also need the `!important` here to be able to override the\n",
       "     default hidden behavior on the sphinx rendered scikit-learn.org.\n",
       "     See: https://github.com/scikit-learn/scikit-learn/issues/21755 */\n",
       "  display: inline-block !important;\n",
       "  position: relative;\n",
       "}\n",
       "\n",
       "#sk-container-id-13 div.sk-text-repr-fallback {\n",
       "  display: none;\n",
       "}\n",
       "\n",
       "div.sk-parallel-item,\n",
       "div.sk-serial,\n",
       "div.sk-item {\n",
       "  /* draw centered vertical line to link estimators */\n",
       "  background-image: linear-gradient(var(--sklearn-color-text-on-default-background), var(--sklearn-color-text-on-default-background));\n",
       "  background-size: 2px 100%;\n",
       "  background-repeat: no-repeat;\n",
       "  background-position: center center;\n",
       "}\n",
       "\n",
       "/* Parallel-specific style estimator block */\n",
       "\n",
       "#sk-container-id-13 div.sk-parallel-item::after {\n",
       "  content: \"\";\n",
       "  width: 100%;\n",
       "  border-bottom: 2px solid var(--sklearn-color-text-on-default-background);\n",
       "  flex-grow: 1;\n",
       "}\n",
       "\n",
       "#sk-container-id-13 div.sk-parallel {\n",
       "  display: flex;\n",
       "  align-items: stretch;\n",
       "  justify-content: center;\n",
       "  background-color: var(--sklearn-color-background);\n",
       "  position: relative;\n",
       "}\n",
       "\n",
       "#sk-container-id-13 div.sk-parallel-item {\n",
       "  display: flex;\n",
       "  flex-direction: column;\n",
       "}\n",
       "\n",
       "#sk-container-id-13 div.sk-parallel-item:first-child::after {\n",
       "  align-self: flex-end;\n",
       "  width: 50%;\n",
       "}\n",
       "\n",
       "#sk-container-id-13 div.sk-parallel-item:last-child::after {\n",
       "  align-self: flex-start;\n",
       "  width: 50%;\n",
       "}\n",
       "\n",
       "#sk-container-id-13 div.sk-parallel-item:only-child::after {\n",
       "  width: 0;\n",
       "}\n",
       "\n",
       "/* Serial-specific style estimator block */\n",
       "\n",
       "#sk-container-id-13 div.sk-serial {\n",
       "  display: flex;\n",
       "  flex-direction: column;\n",
       "  align-items: center;\n",
       "  background-color: var(--sklearn-color-background);\n",
       "  padding-right: 1em;\n",
       "  padding-left: 1em;\n",
       "}\n",
       "\n",
       "\n",
       "/* Toggleable style: style used for estimator/Pipeline/ColumnTransformer box that is\n",
       "clickable and can be expanded/collapsed.\n",
       "- Pipeline and ColumnTransformer use this feature and define the default style\n",
       "- Estimators will overwrite some part of the style using the `sk-estimator` class\n",
       "*/\n",
       "\n",
       "/* Pipeline and ColumnTransformer style (default) */\n",
       "\n",
       "#sk-container-id-13 div.sk-toggleable {\n",
       "  /* Default theme specific background. It is overwritten whether we have a\n",
       "  specific estimator or a Pipeline/ColumnTransformer */\n",
       "  background-color: var(--sklearn-color-background);\n",
       "}\n",
       "\n",
       "/* Toggleable label */\n",
       "#sk-container-id-13 label.sk-toggleable__label {\n",
       "  cursor: pointer;\n",
       "  display: block;\n",
       "  width: 100%;\n",
       "  margin-bottom: 0;\n",
       "  padding: 0.5em;\n",
       "  box-sizing: border-box;\n",
       "  text-align: center;\n",
       "}\n",
       "\n",
       "#sk-container-id-13 label.sk-toggleable__label-arrow:before {\n",
       "  /* Arrow on the left of the label */\n",
       "  content: \"▸\";\n",
       "  float: left;\n",
       "  margin-right: 0.25em;\n",
       "  color: var(--sklearn-color-icon);\n",
       "}\n",
       "\n",
       "#sk-container-id-13 label.sk-toggleable__label-arrow:hover:before {\n",
       "  color: var(--sklearn-color-text);\n",
       "}\n",
       "\n",
       "/* Toggleable content - dropdown */\n",
       "\n",
       "#sk-container-id-13 div.sk-toggleable__content {\n",
       "  max-height: 0;\n",
       "  max-width: 0;\n",
       "  overflow: hidden;\n",
       "  text-align: left;\n",
       "  /* unfitted */\n",
       "  background-color: var(--sklearn-color-unfitted-level-0);\n",
       "}\n",
       "\n",
       "#sk-container-id-13 div.sk-toggleable__content.fitted {\n",
       "  /* fitted */\n",
       "  background-color: var(--sklearn-color-fitted-level-0);\n",
       "}\n",
       "\n",
       "#sk-container-id-13 div.sk-toggleable__content pre {\n",
       "  margin: 0.2em;\n",
       "  border-radius: 0.25em;\n",
       "  color: var(--sklearn-color-text);\n",
       "  /* unfitted */\n",
       "  background-color: var(--sklearn-color-unfitted-level-0);\n",
       "}\n",
       "\n",
       "#sk-container-id-13 div.sk-toggleable__content.fitted pre {\n",
       "  /* unfitted */\n",
       "  background-color: var(--sklearn-color-fitted-level-0);\n",
       "}\n",
       "\n",
       "#sk-container-id-13 input.sk-toggleable__control:checked~div.sk-toggleable__content {\n",
       "  /* Expand drop-down */\n",
       "  max-height: 200px;\n",
       "  max-width: 100%;\n",
       "  overflow: auto;\n",
       "}\n",
       "\n",
       "#sk-container-id-13 input.sk-toggleable__control:checked~label.sk-toggleable__label-arrow:before {\n",
       "  content: \"▾\";\n",
       "}\n",
       "\n",
       "/* Pipeline/ColumnTransformer-specific style */\n",
       "\n",
       "#sk-container-id-13 div.sk-label input.sk-toggleable__control:checked~label.sk-toggleable__label {\n",
       "  color: var(--sklearn-color-text);\n",
       "  background-color: var(--sklearn-color-unfitted-level-2);\n",
       "}\n",
       "\n",
       "#sk-container-id-13 div.sk-label.fitted input.sk-toggleable__control:checked~label.sk-toggleable__label {\n",
       "  background-color: var(--sklearn-color-fitted-level-2);\n",
       "}\n",
       "\n",
       "/* Estimator-specific style */\n",
       "\n",
       "/* Colorize estimator box */\n",
       "#sk-container-id-13 div.sk-estimator input.sk-toggleable__control:checked~label.sk-toggleable__label {\n",
       "  /* unfitted */\n",
       "  background-color: var(--sklearn-color-unfitted-level-2);\n",
       "}\n",
       "\n",
       "#sk-container-id-13 div.sk-estimator.fitted input.sk-toggleable__control:checked~label.sk-toggleable__label {\n",
       "  /* fitted */\n",
       "  background-color: var(--sklearn-color-fitted-level-2);\n",
       "}\n",
       "\n",
       "#sk-container-id-13 div.sk-label label.sk-toggleable__label,\n",
       "#sk-container-id-13 div.sk-label label {\n",
       "  /* The background is the default theme color */\n",
       "  color: var(--sklearn-color-text-on-default-background);\n",
       "}\n",
       "\n",
       "/* On hover, darken the color of the background */\n",
       "#sk-container-id-13 div.sk-label:hover label.sk-toggleable__label {\n",
       "  color: var(--sklearn-color-text);\n",
       "  background-color: var(--sklearn-color-unfitted-level-2);\n",
       "}\n",
       "\n",
       "/* Label box, darken color on hover, fitted */\n",
       "#sk-container-id-13 div.sk-label.fitted:hover label.sk-toggleable__label.fitted {\n",
       "  color: var(--sklearn-color-text);\n",
       "  background-color: var(--sklearn-color-fitted-level-2);\n",
       "}\n",
       "\n",
       "/* Estimator label */\n",
       "\n",
       "#sk-container-id-13 div.sk-label label {\n",
       "  font-family: monospace;\n",
       "  font-weight: bold;\n",
       "  display: inline-block;\n",
       "  line-height: 1.2em;\n",
       "}\n",
       "\n",
       "#sk-container-id-13 div.sk-label-container {\n",
       "  text-align: center;\n",
       "}\n",
       "\n",
       "/* Estimator-specific */\n",
       "#sk-container-id-13 div.sk-estimator {\n",
       "  font-family: monospace;\n",
       "  border: 1px dotted var(--sklearn-color-border-box);\n",
       "  border-radius: 0.25em;\n",
       "  box-sizing: border-box;\n",
       "  margin-bottom: 0.5em;\n",
       "  /* unfitted */\n",
       "  background-color: var(--sklearn-color-unfitted-level-0);\n",
       "}\n",
       "\n",
       "#sk-container-id-13 div.sk-estimator.fitted {\n",
       "  /* fitted */\n",
       "  background-color: var(--sklearn-color-fitted-level-0);\n",
       "}\n",
       "\n",
       "/* on hover */\n",
       "#sk-container-id-13 div.sk-estimator:hover {\n",
       "  /* unfitted */\n",
       "  background-color: var(--sklearn-color-unfitted-level-2);\n",
       "}\n",
       "\n",
       "#sk-container-id-13 div.sk-estimator.fitted:hover {\n",
       "  /* fitted */\n",
       "  background-color: var(--sklearn-color-fitted-level-2);\n",
       "}\n",
       "\n",
       "/* Specification for estimator info (e.g. \"i\" and \"?\") */\n",
       "\n",
       "/* Common style for \"i\" and \"?\" */\n",
       "\n",
       ".sk-estimator-doc-link,\n",
       "a:link.sk-estimator-doc-link,\n",
       "a:visited.sk-estimator-doc-link {\n",
       "  float: right;\n",
       "  font-size: smaller;\n",
       "  line-height: 1em;\n",
       "  font-family: monospace;\n",
       "  background-color: var(--sklearn-color-background);\n",
       "  border-radius: 1em;\n",
       "  height: 1em;\n",
       "  width: 1em;\n",
       "  text-decoration: none !important;\n",
       "  margin-left: 1ex;\n",
       "  /* unfitted */\n",
       "  border: var(--sklearn-color-unfitted-level-1) 1pt solid;\n",
       "  color: var(--sklearn-color-unfitted-level-1);\n",
       "}\n",
       "\n",
       ".sk-estimator-doc-link.fitted,\n",
       "a:link.sk-estimator-doc-link.fitted,\n",
       "a:visited.sk-estimator-doc-link.fitted {\n",
       "  /* fitted */\n",
       "  border: var(--sklearn-color-fitted-level-1) 1pt solid;\n",
       "  color: var(--sklearn-color-fitted-level-1);\n",
       "}\n",
       "\n",
       "/* On hover */\n",
       "div.sk-estimator:hover .sk-estimator-doc-link:hover,\n",
       ".sk-estimator-doc-link:hover,\n",
       "div.sk-label-container:hover .sk-estimator-doc-link:hover,\n",
       ".sk-estimator-doc-link:hover {\n",
       "  /* unfitted */\n",
       "  background-color: var(--sklearn-color-unfitted-level-3);\n",
       "  color: var(--sklearn-color-background);\n",
       "  text-decoration: none;\n",
       "}\n",
       "\n",
       "div.sk-estimator.fitted:hover .sk-estimator-doc-link.fitted:hover,\n",
       ".sk-estimator-doc-link.fitted:hover,\n",
       "div.sk-label-container:hover .sk-estimator-doc-link.fitted:hover,\n",
       ".sk-estimator-doc-link.fitted:hover {\n",
       "  /* fitted */\n",
       "  background-color: var(--sklearn-color-fitted-level-3);\n",
       "  color: var(--sklearn-color-background);\n",
       "  text-decoration: none;\n",
       "}\n",
       "\n",
       "/* Span, style for the box shown on hovering the info icon */\n",
       ".sk-estimator-doc-link span {\n",
       "  display: none;\n",
       "  z-index: 9999;\n",
       "  position: relative;\n",
       "  font-weight: normal;\n",
       "  right: .2ex;\n",
       "  padding: .5ex;\n",
       "  margin: .5ex;\n",
       "  width: min-content;\n",
       "  min-width: 20ex;\n",
       "  max-width: 50ex;\n",
       "  color: var(--sklearn-color-text);\n",
       "  box-shadow: 2pt 2pt 4pt #999;\n",
       "  /* unfitted */\n",
       "  background: var(--sklearn-color-unfitted-level-0);\n",
       "  border: .5pt solid var(--sklearn-color-unfitted-level-3);\n",
       "}\n",
       "\n",
       ".sk-estimator-doc-link.fitted span {\n",
       "  /* fitted */\n",
       "  background: var(--sklearn-color-fitted-level-0);\n",
       "  border: var(--sklearn-color-fitted-level-3);\n",
       "}\n",
       "\n",
       ".sk-estimator-doc-link:hover span {\n",
       "  display: block;\n",
       "}\n",
       "\n",
       "/* \"?\"-specific style due to the `<a>` HTML tag */\n",
       "\n",
       "#sk-container-id-13 a.estimator_doc_link {\n",
       "  float: right;\n",
       "  font-size: 1rem;\n",
       "  line-height: 1em;\n",
       "  font-family: monospace;\n",
       "  background-color: var(--sklearn-color-background);\n",
       "  border-radius: 1rem;\n",
       "  height: 1rem;\n",
       "  width: 1rem;\n",
       "  text-decoration: none;\n",
       "  /* unfitted */\n",
       "  color: var(--sklearn-color-unfitted-level-1);\n",
       "  border: var(--sklearn-color-unfitted-level-1) 1pt solid;\n",
       "}\n",
       "\n",
       "#sk-container-id-13 a.estimator_doc_link.fitted {\n",
       "  /* fitted */\n",
       "  border: var(--sklearn-color-fitted-level-1) 1pt solid;\n",
       "  color: var(--sklearn-color-fitted-level-1);\n",
       "}\n",
       "\n",
       "/* On hover */\n",
       "#sk-container-id-13 a.estimator_doc_link:hover {\n",
       "  /* unfitted */\n",
       "  background-color: var(--sklearn-color-unfitted-level-3);\n",
       "  color: var(--sklearn-color-background);\n",
       "  text-decoration: none;\n",
       "}\n",
       "\n",
       "#sk-container-id-13 a.estimator_doc_link.fitted:hover {\n",
       "  /* fitted */\n",
       "  background-color: var(--sklearn-color-fitted-level-3);\n",
       "}\n",
       "</style><div id=\"sk-container-id-13\" class=\"sk-top-container\"><div class=\"sk-text-repr-fallback\"><pre>VotingRegressor(estimators=[(&#x27;Le&#x27;, LinearRegression()),\n",
       "                            (&#x27;t&#x27;, DecisionTreeRegressor(max_depth=5)),\n",
       "                            (&#x27;ridge&#x27;, Ridge())])</pre><b>In a Jupyter environment, please rerun this cell to show the HTML representation or trust the notebook. <br />On GitHub, the HTML representation is unable to render, please try loading this page with nbviewer.org.</b></div><div class=\"sk-container\" hidden><div class=\"sk-item sk-dashed-wrapped\"><div class=\"sk-label-container\"><div class=\"sk-label fitted sk-toggleable\"><input class=\"sk-toggleable__control sk-hidden--visually\" id=\"sk-estimator-id-40\" type=\"checkbox\" ><label for=\"sk-estimator-id-40\" class=\"sk-toggleable__label fitted sk-toggleable__label-arrow fitted\">&nbsp;&nbsp;VotingRegressor<a class=\"sk-estimator-doc-link fitted\" rel=\"noreferrer\" target=\"_blank\" href=\"https://scikit-learn.org/1.5/modules/generated/sklearn.ensemble.VotingRegressor.html\">?<span>Documentation for VotingRegressor</span></a><span class=\"sk-estimator-doc-link fitted\">i<span>Fitted</span></span></label><div class=\"sk-toggleable__content fitted\"><pre>VotingRegressor(estimators=[(&#x27;Le&#x27;, LinearRegression()),\n",
       "                            (&#x27;t&#x27;, DecisionTreeRegressor(max_depth=5)),\n",
       "                            (&#x27;ridge&#x27;, Ridge())])</pre></div> </div></div><div class=\"sk-parallel\"><div class=\"sk-parallel-item\"><div class=\"sk-item\"><div class=\"sk-label-container\"><div class=\"sk-label fitted sk-toggleable\"><label>Le</label></div></div><div class=\"sk-serial\"><div class=\"sk-item\"><div class=\"sk-estimator fitted sk-toggleable\"><input class=\"sk-toggleable__control sk-hidden--visually\" id=\"sk-estimator-id-41\" type=\"checkbox\" ><label for=\"sk-estimator-id-41\" class=\"sk-toggleable__label fitted sk-toggleable__label-arrow fitted\">&nbsp;LinearRegression<a class=\"sk-estimator-doc-link fitted\" rel=\"noreferrer\" target=\"_blank\" href=\"https://scikit-learn.org/1.5/modules/generated/sklearn.linear_model.LinearRegression.html\">?<span>Documentation for LinearRegression</span></a></label><div class=\"sk-toggleable__content fitted\"><pre>LinearRegression()</pre></div> </div></div></div></div></div><div class=\"sk-parallel-item\"><div class=\"sk-item\"><div class=\"sk-label-container\"><div class=\"sk-label fitted sk-toggleable\"><label>t</label></div></div><div class=\"sk-serial\"><div class=\"sk-item\"><div class=\"sk-estimator fitted sk-toggleable\"><input class=\"sk-toggleable__control sk-hidden--visually\" id=\"sk-estimator-id-42\" type=\"checkbox\" ><label for=\"sk-estimator-id-42\" class=\"sk-toggleable__label fitted sk-toggleable__label-arrow fitted\">&nbsp;DecisionTreeRegressor<a class=\"sk-estimator-doc-link fitted\" rel=\"noreferrer\" target=\"_blank\" href=\"https://scikit-learn.org/1.5/modules/generated/sklearn.tree.DecisionTreeRegressor.html\">?<span>Documentation for DecisionTreeRegressor</span></a></label><div class=\"sk-toggleable__content fitted\"><pre>DecisionTreeRegressor(max_depth=5)</pre></div> </div></div></div></div></div><div class=\"sk-parallel-item\"><div class=\"sk-item\"><div class=\"sk-label-container\"><div class=\"sk-label fitted sk-toggleable\"><label>ridge</label></div></div><div class=\"sk-serial\"><div class=\"sk-item\"><div class=\"sk-estimator fitted sk-toggleable\"><input class=\"sk-toggleable__control sk-hidden--visually\" id=\"sk-estimator-id-43\" type=\"checkbox\" ><label for=\"sk-estimator-id-43\" class=\"sk-toggleable__label fitted sk-toggleable__label-arrow fitted\">&nbsp;Ridge<a class=\"sk-estimator-doc-link fitted\" rel=\"noreferrer\" target=\"_blank\" href=\"https://scikit-learn.org/1.5/modules/generated/sklearn.linear_model.Ridge.html\">?<span>Documentation for Ridge</span></a></label><div class=\"sk-toggleable__content fitted\"><pre>Ridge()</pre></div> </div></div></div></div></div></div></div></div></div>"
      ],
      "text/plain": [
       "VotingRegressor(estimators=[('Le', LinearRegression()),\n",
       "                            ('t', DecisionTreeRegressor(max_depth=5)),\n",
       "                            ('ridge', Ridge())])"
      ]
     },
     "execution_count": 367,
     "metadata": {},
     "output_type": "execute_result"
    }
   ],
   "source": [
    "v.fit(x_train, y_train)"
   ]
  },
  {
   "cell_type": "code",
   "execution_count": 368,
   "id": "533b51a2-0dce-4726-af41-58d70d050c24",
   "metadata": {},
   "outputs": [
    {
     "data": {
      "text/plain": [
       "(0.864914883464305, 0.8541266859902775)"
      ]
     },
     "execution_count": 368,
     "metadata": {},
     "output_type": "execute_result"
    }
   ],
   "source": [
    "v.score(x_train, y_train), v.score(x_cv, y_cv)"
   ]
  },
  {
   "cell_type": "code",
   "execution_count": null,
   "id": "da55fd99-c01d-4bca-a15d-abcc7bdd1ad4",
   "metadata": {},
   "outputs": [],
   "source": []
  }
 ],
 "metadata": {
  "kernelspec": {
   "display_name": "Python 3 (ipykernel)",
   "language": "python",
   "name": "python3"
  },
  "language_info": {
   "codemirror_mode": {
    "name": "ipython",
    "version": 3
   },
   "file_extension": ".py",
   "mimetype": "text/x-python",
   "name": "python",
   "nbconvert_exporter": "python",
   "pygments_lexer": "ipython3",
   "version": "3.12.1"
  }
 },
 "nbformat": 4,
 "nbformat_minor": 5
}
